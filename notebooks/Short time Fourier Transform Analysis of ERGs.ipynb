{
 "cells": [
  {
   "cell_type": "code",
   "execution_count": 57,
   "id": "c296b9f5",
   "metadata": {},
   "outputs": [],
   "source": [
    "from box import Box\n",
    "import yaml\n",
    "import matplotlib.pyplot as plt\n",
    "import numpy as np\n",
    "from pyts.classification import LearningShapelets\n",
    "from pyts.datasets import load_gunpoint\n",
    "from pyts.utils import windowed_view\n",
    "import pandas as pd\n",
    "from sklearn.model_selection import train_test_split\n",
    "from sklearn.model_selection import StratifiedKFold\n",
    "from sklearn.model_selection import StratifiedShuffleSplit\n",
    "from sklearn.linear_model import LogisticRegression\n",
    "from sklearn.ensemble import RandomForestClassifier\n",
    "from sklearn.metrics import roc_auc_score, average_precision_score\n",
    "from sklearn.metrics import classification_report\n",
    "import pickle\n",
    "from scipy.signal import stft\n",
    "from sklearn import metrics\n",
    "%matplotlib inline"
   ]
  },
  {
   "cell_type": "code",
   "execution_count": 58,
   "id": "e11fac39",
   "metadata": {},
   "outputs": [],
   "source": [
    "path = \"./data/erg_temp.xlsx\"\n",
    "signal_type = \"Maximum 2.0 ERG Response\"\n",
    "columns = [\"Age\", \"la\", \"a\", \"lb\", \"b\", \"diag\"]\n",
    "test_ratio = 0.3\n",
    "save_path = \"./saved_models\"\n"
   ]
  },
  {
   "cell_type": "code",
   "execution_count": 59,
   "id": "3bb6f68b",
   "metadata": {},
   "outputs": [],
   "source": [
    "def prepared_data():\n",
    "    data = pd.read_excel(path, sheet_name=0)\n",
    "    data.head()\n",
    "    signal_type = \"Maximum 2.0 ERG Response\"\n",
    "    new_data = pd.DataFrame()\n",
    "    for i in range(7):\n",
    "        row = data.iloc[i, :].values\n",
    "        new_data[row[0]] = row[1:]\n",
    "    new_data[\"signal_type\"] = signal_type\n",
    "    new_data[\"signal\"] = [data[col].values[9:210].tolist() for col in data.columns[1:]]\n",
    "    new_data[\"Diagnosis\"] = new_data[\"Diagnosis\"].map({\"healthy\": 0, \"unhealthy\": 1})\n",
    "    new_data = new_data.dropna(axis=0)\n",
    "    return new_data"
   ]
  },
  {
   "cell_type": "code",
   "execution_count": 60,
   "id": "0b4bdb62",
   "metadata": {},
   "outputs": [],
   "source": [
    "def get_class_distribution(y):\n",
    "    return np.unique(y, return_counts=True)"
   ]
  },
  {
   "cell_type": "code",
   "execution_count": 61,
   "id": "9d37f019",
   "metadata": {},
   "outputs": [
    {
     "data": {
      "text/html": [
       "<div>\n",
       "<style scoped>\n",
       "    .dataframe tbody tr th:only-of-type {\n",
       "        vertical-align: middle;\n",
       "    }\n",
       "\n",
       "    .dataframe tbody tr th {\n",
       "        vertical-align: top;\n",
       "    }\n",
       "\n",
       "    .dataframe thead th {\n",
       "        text-align: right;\n",
       "    }\n",
       "</style>\n",
       "<table border=\"1\" class=\"dataframe\">\n",
       "  <thead>\n",
       "    <tr style=\"text-align: right;\">\n",
       "      <th></th>\n",
       "      <th>PatNo</th>\n",
       "      <th>Age</th>\n",
       "      <th>Diagnosis</th>\n",
       "      <th>a-wave latency (la)</th>\n",
       "      <th>a-wave amplitude (a)</th>\n",
       "      <th>b-wave latency (lb)</th>\n",
       "      <th>b-wave amplitude (b)</th>\n",
       "      <th>signal_type</th>\n",
       "      <th>signal</th>\n",
       "    </tr>\n",
       "  </thead>\n",
       "  <tbody>\n",
       "    <tr>\n",
       "      <th>0</th>\n",
       "      <td>3</td>\n",
       "      <td>27.86</td>\n",
       "      <td>1</td>\n",
       "      <td>20.5</td>\n",
       "      <td>51.602914</td>\n",
       "      <td>41</td>\n",
       "      <td>71.141256</td>\n",
       "      <td>Maximum 2.0 ERG Response</td>\n",
       "      <td>[3.71e-06, 3.66e-06, 3.6e-06, 3.53e-06, 3.45e-...</td>\n",
       "    </tr>\n",
       "    <tr>\n",
       "      <th>1</th>\n",
       "      <td>3</td>\n",
       "      <td>27.86</td>\n",
       "      <td>0</td>\n",
       "      <td>18.5</td>\n",
       "      <td>45.458349</td>\n",
       "      <td>40</td>\n",
       "      <td>83.424715</td>\n",
       "      <td>Maximum 2.0 ERG Response</td>\n",
       "      <td>[-2.35, -2.47, -2.63, -2.8, -3.01, -3.24, -3.4...</td>\n",
       "    </tr>\n",
       "    <tr>\n",
       "      <th>2</th>\n",
       "      <td>5</td>\n",
       "      <td>37.11</td>\n",
       "      <td>1</td>\n",
       "      <td>19</td>\n",
       "      <td>34.029953</td>\n",
       "      <td>37.5</td>\n",
       "      <td>52.252863</td>\n",
       "      <td>Maximum 2.0 ERG Response</td>\n",
       "      <td>[1.26e-05, 1.24e-05, 1.22e-05, 1.2e-05, 1.18e-...</td>\n",
       "    </tr>\n",
       "    <tr>\n",
       "      <th>3</th>\n",
       "      <td>6</td>\n",
       "      <td>31.68</td>\n",
       "      <td>1</td>\n",
       "      <td>19</td>\n",
       "      <td>113.258301</td>\n",
       "      <td>41</td>\n",
       "      <td>196.823552</td>\n",
       "      <td>Maximum 2.0 ERG Response</td>\n",
       "      <td>[-10.8, -11.1, -11.5, -11.9, -12.4, -12.9, -13...</td>\n",
       "    </tr>\n",
       "    <tr>\n",
       "      <th>4</th>\n",
       "      <td>6</td>\n",
       "      <td>31.69</td>\n",
       "      <td>1</td>\n",
       "      <td>19.5</td>\n",
       "      <td>46.341539</td>\n",
       "      <td>41</td>\n",
       "      <td>78.289791</td>\n",
       "      <td>Maximum 2.0 ERG Response</td>\n",
       "      <td>[1.15e-06, 9.6e-07, 7.46e-07, 5.06e-07, 2.44e-...</td>\n",
       "    </tr>\n",
       "  </tbody>\n",
       "</table>\n",
       "</div>"
      ],
      "text/plain": [
       "  PatNo    Age  Diagnosis a-wave latency (la) a-wave amplitude (a)  \\\n",
       "0     3  27.86          1                20.5            51.602914   \n",
       "1     3  27.86          0                18.5            45.458349   \n",
       "2     5  37.11          1                  19            34.029953   \n",
       "3     6  31.68          1                  19           113.258301   \n",
       "4     6  31.69          1                19.5            46.341539   \n",
       "\n",
       "  b-wave latency (lb) b-wave amplitude (b)               signal_type  \\\n",
       "0                  41            71.141256  Maximum 2.0 ERG Response   \n",
       "1                  40            83.424715  Maximum 2.0 ERG Response   \n",
       "2                37.5            52.252863  Maximum 2.0 ERG Response   \n",
       "3                  41           196.823552  Maximum 2.0 ERG Response   \n",
       "4                  41            78.289791  Maximum 2.0 ERG Response   \n",
       "\n",
       "                                              signal  \n",
       "0  [3.71e-06, 3.66e-06, 3.6e-06, 3.53e-06, 3.45e-...  \n",
       "1  [-2.35, -2.47, -2.63, -2.8, -3.01, -3.24, -3.4...  \n",
       "2  [1.26e-05, 1.24e-05, 1.22e-05, 1.2e-05, 1.18e-...  \n",
       "3  [-10.8, -11.1, -11.5, -11.9, -12.4, -12.9, -13...  \n",
       "4  [1.15e-06, 9.6e-07, 7.46e-07, 5.06e-07, 2.44e-...  "
      ]
     },
     "execution_count": 61,
     "metadata": {},
     "output_type": "execute_result"
    },
    {
     "data": {
      "image/png": "[encoded data removed]",
      "text/plain": [
       "<Figure size 640x480 with 1 Axes>"
      ]
     },
     "metadata": {},
     "output_type": "display_data"
    }
   ],
   "source": [
    "new_data = prepared_data()\n",
    "plt.plot(new_data[\"signal\"].values[0], color=\"r\", label=\"unhealthy\")\n",
    "plt.plot(new_data[\"signal\"].values[1], color=\"g\", label=\"healthy\")\n",
    "plt.legend()\n",
    "new_data.head()\n"
   ]
  },
  {
   "cell_type": "code",
   "execution_count": 62,
   "id": "6cf2a503",
   "metadata": {},
   "outputs": [],
   "source": [
    "new_data = new_data.dropna()"
   ]
  },
  {
   "cell_type": "code",
   "execution_count": 63,
   "id": "1b0ea4d6",
   "metadata": {},
   "outputs": [
    {
     "data": {
      "text/html": [
       "<div>\n",
       "<style scoped>\n",
       "    .dataframe tbody tr th:only-of-type {\n",
       "        vertical-align: middle;\n",
       "    }\n",
       "\n",
       "    .dataframe tbody tr th {\n",
       "        vertical-align: top;\n",
       "    }\n",
       "\n",
       "    .dataframe thead th {\n",
       "        text-align: right;\n",
       "    }\n",
       "</style>\n",
       "<table border=\"1\" class=\"dataframe\">\n",
       "  <thead>\n",
       "    <tr style=\"text-align: right;\">\n",
       "      <th></th>\n",
       "      <th>shapelet_0</th>\n",
       "      <th>shapelet_1</th>\n",
       "      <th>shapelet_2</th>\n",
       "      <th>shapelet_3</th>\n",
       "      <th>shapelet_4</th>\n",
       "      <th>shapelet_5</th>\n",
       "      <th>shapelet_6</th>\n",
       "      <th>shapelet_7</th>\n",
       "      <th>shapelet_8</th>\n",
       "      <th>shapelet_9</th>\n",
       "      <th>...</th>\n",
       "      <th>shapelet_90</th>\n",
       "      <th>shapelet_91</th>\n",
       "      <th>shapelet_92</th>\n",
       "      <th>shapelet_93</th>\n",
       "      <th>shapelet_94</th>\n",
       "      <th>shapelet_95</th>\n",
       "      <th>shapelet_96</th>\n",
       "      <th>shapelet_97</th>\n",
       "      <th>shapelet_98</th>\n",
       "      <th>shapelet_99</th>\n",
       "    </tr>\n",
       "  </thead>\n",
       "  <tbody>\n",
       "    <tr>\n",
       "      <th>0</th>\n",
       "      <td>10635.297436</td>\n",
       "      <td>6713.907574</td>\n",
       "      <td>5258.145912</td>\n",
       "      <td>4914.983959</td>\n",
       "      <td>60.927561</td>\n",
       "      <td>103.068262</td>\n",
       "      <td>0.000206</td>\n",
       "      <td>20.947012</td>\n",
       "      <td>0.001132</td>\n",
       "      <td>17.428648</td>\n",
       "      <td>...</td>\n",
       "      <td>851.885265</td>\n",
       "      <td>676.168467</td>\n",
       "      <td>2210.874844</td>\n",
       "      <td>663.347953</td>\n",
       "      <td>1696.928545</td>\n",
       "      <td>306.097047</td>\n",
       "      <td>749.992208</td>\n",
       "      <td>817.474333</td>\n",
       "      <td>648.239046</td>\n",
       "      <td>460.528582</td>\n",
       "    </tr>\n",
       "    <tr>\n",
       "      <th>1</th>\n",
       "      <td>3682.228109</td>\n",
       "      <td>2406.399970</td>\n",
       "      <td>1074.114636</td>\n",
       "      <td>863.358499</td>\n",
       "      <td>78.688769</td>\n",
       "      <td>40.484768</td>\n",
       "      <td>39.735194</td>\n",
       "      <td>28.297938</td>\n",
       "      <td>22.936377</td>\n",
       "      <td>4.317285</td>\n",
       "      <td>...</td>\n",
       "      <td>7.936636</td>\n",
       "      <td>52.317386</td>\n",
       "      <td>21.692817</td>\n",
       "      <td>34.187063</td>\n",
       "      <td>3.557044</td>\n",
       "      <td>253.523244</td>\n",
       "      <td>0.335338</td>\n",
       "      <td>2.062762</td>\n",
       "      <td>64.763301</td>\n",
       "      <td>175.526265</td>\n",
       "    </tr>\n",
       "    <tr>\n",
       "      <th>2</th>\n",
       "      <td>10635.300536</td>\n",
       "      <td>6713.909473</td>\n",
       "      <td>5258.148009</td>\n",
       "      <td>4914.986014</td>\n",
       "      <td>60.927624</td>\n",
       "      <td>103.068294</td>\n",
       "      <td>0.000206</td>\n",
       "      <td>20.947013</td>\n",
       "      <td>0.001132</td>\n",
       "      <td>17.428755</td>\n",
       "      <td>...</td>\n",
       "      <td>851.885436</td>\n",
       "      <td>676.169127</td>\n",
       "      <td>2210.876259</td>\n",
       "      <td>663.348121</td>\n",
       "      <td>1696.929763</td>\n",
       "      <td>306.097326</td>\n",
       "      <td>749.992384</td>\n",
       "      <td>817.474542</td>\n",
       "      <td>648.239669</td>\n",
       "      <td>460.528985</td>\n",
       "    </tr>\n",
       "    <tr>\n",
       "      <th>3</th>\n",
       "      <td>53.952244</td>\n",
       "      <td>12.053155</td>\n",
       "      <td>197.579934</td>\n",
       "      <td>128.697364</td>\n",
       "      <td>805.588177</td>\n",
       "      <td>743.226515</td>\n",
       "      <td>492.272721</td>\n",
       "      <td>296.325087</td>\n",
       "      <td>203.465095</td>\n",
       "      <td>107.999618</td>\n",
       "      <td>...</td>\n",
       "      <td>561.491697</td>\n",
       "      <td>221.833712</td>\n",
       "      <td>655.146771</td>\n",
       "      <td>18.405754</td>\n",
       "      <td>237.338543</td>\n",
       "      <td>945.629058</td>\n",
       "      <td>5.575541</td>\n",
       "      <td>50.194846</td>\n",
       "      <td>154.342076</td>\n",
       "      <td>117.163703</td>\n",
       "    </tr>\n",
       "    <tr>\n",
       "      <th>4</th>\n",
       "      <td>10635.297110</td>\n",
       "      <td>6713.907365</td>\n",
       "      <td>5258.145693</td>\n",
       "      <td>4914.983739</td>\n",
       "      <td>60.927446</td>\n",
       "      <td>103.068185</td>\n",
       "      <td>0.000206</td>\n",
       "      <td>20.947001</td>\n",
       "      <td>0.001132</td>\n",
       "      <td>17.428636</td>\n",
       "      <td>...</td>\n",
       "      <td>851.884935</td>\n",
       "      <td>676.168391</td>\n",
       "      <td>2210.874697</td>\n",
       "      <td>663.347644</td>\n",
       "      <td>1696.928416</td>\n",
       "      <td>306.096940</td>\n",
       "      <td>749.991886</td>\n",
       "      <td>817.473935</td>\n",
       "      <td>648.238979</td>\n",
       "      <td>460.528475</td>\n",
       "    </tr>\n",
       "  </tbody>\n",
       "</table>\n",
       "<p>5 rows × 100 columns</p>\n",
       "</div>"
      ],
      "text/plain": [
       "     shapelet_0   shapelet_1   shapelet_2   shapelet_3  shapelet_4  \\\n",
       "0  10635.297436  6713.907574  5258.145912  4914.983959   60.927561   \n",
       "1   3682.228109  2406.399970  1074.114636   863.358499   78.688769   \n",
       "2  10635.300536  6713.909473  5258.148009  4914.986014   60.927624   \n",
       "3     53.952244    12.053155   197.579934   128.697364  805.588177   \n",
       "4  10635.297110  6713.907365  5258.145693  4914.983739   60.927446   \n",
       "\n",
       "   shapelet_5  shapelet_6  shapelet_7  shapelet_8  shapelet_9  ...  \\\n",
       "0  103.068262    0.000206   20.947012    0.001132   17.428648  ...   \n",
       "1   40.484768   39.735194   28.297938   22.936377    4.317285  ...   \n",
       "2  103.068294    0.000206   20.947013    0.001132   17.428755  ...   \n",
       "3  743.226515  492.272721  296.325087  203.465095  107.999618  ...   \n",
       "4  103.068185    0.000206   20.947001    0.001132   17.428636  ...   \n",
       "\n",
       "   shapelet_90  shapelet_91  shapelet_92  shapelet_93  shapelet_94  \\\n",
       "0   851.885265   676.168467  2210.874844   663.347953  1696.928545   \n",
       "1     7.936636    52.317386    21.692817    34.187063     3.557044   \n",
       "2   851.885436   676.169127  2210.876259   663.348121  1696.929763   \n",
       "3   561.491697   221.833712   655.146771    18.405754   237.338543   \n",
       "4   851.884935   676.168391  2210.874697   663.347644  1696.928416   \n",
       "\n",
       "   shapelet_95  shapelet_96  shapelet_97  shapelet_98  shapelet_99  \n",
       "0   306.097047   749.992208   817.474333   648.239046   460.528582  \n",
       "1   253.523244     0.335338     2.062762    64.763301   175.526265  \n",
       "2   306.097326   749.992384   817.474542   648.239669   460.528985  \n",
       "3   945.629058     5.575541    50.194846   154.342076   117.163703  \n",
       "4   306.096940   749.991886   817.473935   648.238979   460.528475  \n",
       "\n",
       "[5 rows x 100 columns]"
      ]
     },
     "execution_count": 63,
     "metadata": {},
     "output_type": "execute_result"
    }
   ],
   "source": [
    "def pickle_load(path):\n",
    "    with open(path, \"rb\") as f:\n",
    "        return pickle.load(f)\n",
    "    \n",
    "shapelet_data = pickle_load(\"data/shaplet_distances100.pkl\")\n",
    "shapelet_data = shapelet_data.dropna()\n",
    "shapelet_data.head()"
   ]
  },
  {
   "cell_type": "code",
   "execution_count": 64,
   "id": "4a91f08a",
   "metadata": {},
   "outputs": [
    {
     "data": {
      "text/plain": [
       "shapelet_0     0\n",
       "shapelet_1     0\n",
       "shapelet_2     0\n",
       "shapelet_3     0\n",
       "shapelet_4     0\n",
       "              ..\n",
       "shapelet_95    0\n",
       "shapelet_96    0\n",
       "shapelet_97    0\n",
       "shapelet_98    0\n",
       "shapelet_99    0\n",
       "Length: 100, dtype: int64"
      ]
     },
     "execution_count": 64,
     "metadata": {},
     "output_type": "execute_result"
    }
   ],
   "source": [
    "shapelet_data.isna().sum()"
   ]
  },
  {
   "cell_type": "code",
   "execution_count": 71,
   "id": "cce02975",
   "metadata": {},
   "outputs": [],
   "source": [
    "# add other parameters\n",
    "# add other parameters\n",
    "def au_pr_curve(ytrue, ypred):\n",
    "    precision, recall, threshold = metrics.precision_recall_curve(ytrue, ypred, pos_label = 1)\n",
    "    return metrics.auc(recall, precision)\n",
    "\n",
    "def train_kfold(model, X, y, X_train, y_train, kfolds, random_state):\n",
    "    sss = StratifiedShuffleSplit(n_splits=2, test_size=0.25, random_state=0)\n",
    "    average_precisions = []\n",
    "    \n",
    "    for i, (train_index, test_index) in enumerate(sss.split(X, y)):        \n",
    "        X_tr, X_te = X[train_index], X[test_index]\n",
    "        y_tr, y_te = y[train_index], y[test_index]\n",
    "\n",
    "        model.fit(X_tr, y_tr)\n",
    "        y_pr = model.predict_proba(X_te)[:,1]\n",
    "        aps = average_precision_score(y_te, y_pr)\n",
    "        average_precisions.append(aps)\n",
    "    \n",
    "    return model, np.mean(average_precisions)\n",
    "\n",
    "def test(model, X_test, y_test):\n",
    "    y_pred = model.predict(X_test)\n",
    "    class_names = [\"healthy\", \"unhealthy\"]\n",
    "    print(classification_report(y_test, y_pred, target_names=class_names), \"\\n\")\n",
    "\n",
    "def train(model, X, y, test_ratio=0.2, kfold_splits = 10, random_state = 42):\n",
    "    # prepare data\n",
    "    X_train, X_test, y_train, y_test = train_test_split(X, y, test_size=test_ratio, random_state=random_state)\n",
    "    model, mean_precision = train_kfold(model, X, y, X_train, y_train, kfold_splits, random_state)\n",
    "\n",
    "    y_pred_h = model.predict_proba(X_test[y_test == 0])[:, 1]\n",
    "    y_test_h = y_test[y_test==0]\n",
    "    precision, recall, thresholds = metrics.precision_recall_curve(y_test_h, y_pred_h, pos_label=0)\n",
    "    au_pr = metrics.auc(recall, precision)\n",
    "    plt.plot(recall, precision)\n",
    "    plt.show()\n",
    "    print(\"area under pr:\", au_pr)\n",
    "    # test model\n",
    "    test(model, X_test, y_test)\n",
    "    return au_pr"
   ]
  },
  {
   "cell_type": "code",
   "execution_count": 72,
   "id": "07199cec",
   "metadata": {},
   "outputs": [],
   "source": [
    "def get_shapelets(X, y, num_shapelets):\n",
    "    # Load the data set and fit the classifier\n",
    "    #clf = LearningShapelets(random_state=42, tol=0.01, class_weight=\"balanced\")\n",
    "    #clf.fit(X, y)\n",
    "    with open(\"data/shaplet_transform_clf.pkl\", \"rb\") as f:\n",
    "        clf = pickle.load(f)\n",
    "    \n",
    "    # Select two shapelets\n",
    "    coefs = clf.coef_[0]\n",
    "    sorted_coefs = np.argsort(coefs)[::-1][:num_shapelets]\n",
    "    distance_df = pd.DataFrame()\n",
    "    for i, ind in enumerate(sorted_coefs):\n",
    "        \n",
    "        shapelets = np.asarray([clf.shapelets_[0, ind]])\n",
    "\n",
    "        # Derive the distances between the time series and the shapelets\n",
    "        shapelet_size = shapelets.shape[1]\n",
    "#         print(\"shapelet size:\", shapelet_size)\n",
    "        X_window = windowed_view(X, window_size=shapelet_size, window_step=1)\n",
    "        X_dist = np.mean(\n",
    "            (X_window[:, :, None] - shapelets[None, :]) ** 2, axis=3).min(axis=1)\n",
    "        distance_df[\"shapelet_\" + str(i)] = X_dist.ravel()\n",
    "    \n",
    "    return distance_df, clf\n",
    "    "
   ]
  },
  {
   "cell_type": "code",
   "execution_count": 67,
   "id": "f6bbbf18",
   "metadata": {},
   "outputs": [],
   "source": [
    "def get_stft_features(signal, fs, nperseg):\n",
    "    freq, time, zxx = stft(signal, fs, nperseg=nperseg)\n",
    "    zxx_mag = np.abs(zxx).flatten().tolist()\n",
    "    return freq, time, zxx_mag\n",
    "\n",
    "def get_stft_X(df, other_cols, only_classic=False, fs = 1, nperseg=20):\n",
    "    if only_classic:\n",
    "        print(\"reutrning classic\")\n",
    "        return df[other_cols].values\n",
    "    \n",
    "    X = []\n",
    "    for idx, row in df.iterrows():\n",
    "        new_features = row[other_cols].values.tolist()\n",
    "        signal = np.array(row['signal'])\n",
    "        freq, time, stft_features = get_stft_features(signal, fs, nperseg)\n",
    "        new_features.extend(stft_features)\n",
    "        X.append(new_features)\n",
    "    return np.array(X)\n",
    "    \n"
   ]
  },
  {
   "cell_type": "code",
   "execution_count": 68,
   "id": "d577d4a4",
   "metadata": {},
   "outputs": [],
   "source": [
    "def train_classifier(model, new_data):\n",
    "    columns = [] #['a-wave latency (la)','a-wave amplitude (a)','b-wave latency (lb)','b-wave amplitude (b)']\n",
    "    fs = 1\n",
    "    npersegs = np.linspace(5, 20, 5)\n",
    "    for nperseg in npersegs:\n",
    "        print('nperseg =', nperseg, '\\n')\n",
    "        y = new_data[\"Diagnosis\"].values\n",
    "        #new_data = new_data.drop(columns=[\"Diagnosis\"])\n",
    "        X = get_stft_X(new_data, columns, fs=fs, nperseg=nperseg)\n",
    "        #model = RandomForestClassifier(n_jobs=-1, random_state=42)\n",
    "        train(model, X, y)"
   ]
  },
  {
   "cell_type": "code",
   "execution_count": 69,
   "id": "dbc11a83",
   "metadata": {},
   "outputs": [],
   "source": [
    "def train_combined(model, new_data, nperseg=5, fs=1.0):\n",
    "    columns = ['a-wave latency (la)','a-wave amplitude (a)','b-wave latency (lb)','b-wave amplitude (b)']\n",
    "    \n",
    "    y = new_data[\"Diagnosis\"].values\n",
    "    signals = new_data[\"signal\"].values.tolist()\n",
    "    X = get_stft_X(new_data, columns, only_classic=False, fs=fs, nperseg=nperseg)\n",
    "    dist = get_shapelets(signals, y, 5)[0]\n",
    "    X = np.concatenate((X, dist), axis=1)\n",
    "    print(X.shape, dist.shape, X.shape)\n",
    "    train(model, X, y)\n"
   ]
  },
  {
   "cell_type": "code",
   "execution_count": null,
   "id": "ae28d059",
   "metadata": {},
   "outputs": [],
   "source": []
  },
  {
   "cell_type": "code",
   "execution_count": 24,
   "id": "7daee082",
   "metadata": {},
   "outputs": [
    {
     "name": "stdout",
     "output_type": "stream",
     "text": [
      "Performing randomized grid search for Decision Tree...\n"
     ]
    },
    {
     "name": "stderr",
     "output_type": "stream",
     "text": [
      "/proj/ciptmp/ez48awud/envs/erg/lib/python3.8/site-packages/sklearn/model_selection/_search.py:305: UserWarning: The total space of parameters 12 is smaller than n_iter=20. Running 12 iterations. For exhaustive searches, use GridSearchCV.\n",
      "  warnings.warn(\n"
     ]
    },
    {
     "name": "stdout",
     "output_type": "stream",
     "text": [
      "Best parameters for Decision Tree:\n",
      "min_samples_split: 10\n",
      "max_depth: 3\n",
      "\n",
      "Performing randomized grid search for Random Forest...\n",
      "Best parameters for Random Forest:\n",
      "n_estimators: 50\n",
      "min_samples_split: 5\n",
      "max_depth: None\n",
      "\n",
      "Performing randomized grid search for Logistic Regression...\n"
     ]
    },
    {
     "name": "stderr",
     "output_type": "stream",
     "text": [
      "/proj/ciptmp/ez48awud/envs/erg/lib/python3.8/site-packages/sklearn/model_selection/_search.py:305: UserWarning: The total space of parameters 6 is smaller than n_iter=20. Running 6 iterations. For exhaustive searches, use GridSearchCV.\n",
      "  warnings.warn(\n"
     ]
    },
    {
     "name": "stdout",
     "output_type": "stream",
     "text": [
      "Best parameters for Logistic Regression:\n",
      "solver: liblinear\n",
      "C: 1.0\n",
      "\n",
      "Performing randomized grid search for SVM...\n"
     ]
    },
    {
     "name": "stderr",
     "output_type": "stream",
     "text": [
      "/proj/ciptmp/ez48awud/envs/erg/lib/python3.8/site-packages/sklearn/model_selection/_search.py:305: UserWarning: The total space of parameters 6 is smaller than n_iter=20. Running 6 iterations. For exhaustive searches, use GridSearchCV.\n",
      "  warnings.warn(\n"
     ]
    },
    {
     "name": "stdout",
     "output_type": "stream",
     "text": [
      "Best parameters for SVM:\n",
      "kernel: linear\n",
      "C: 0.1\n",
      "\n"
     ]
    }
   ],
   "source": [
    "from sklearn.datasets import load_iris\n",
    "from sklearn.model_selection import RandomizedSearchCV\n",
    "from sklearn.tree import DecisionTreeClassifier\n",
    "from sklearn.ensemble import RandomForestClassifier\n",
    "from sklearn.linear_model import LogisticRegression\n",
    "from sklearn.svm import SVC\n",
    "\n",
    "columns = []\n",
    "fs = 1.0\n",
    "nperseg = 5\n",
    "\n",
    "y = new_data[\"Diagnosis\"].values\n",
    "X = get_stft_X(new_data, columns, only_classic=False, fs=fs, nperseg=nperseg)\n",
    "# Define the parameter grid for each model\n",
    "decision_tree_params = {\n",
    "    'max_depth': [None, 3, 5, 7],\n",
    "    'min_samples_split': [2, 5, 10]\n",
    "}\n",
    "\n",
    "random_forest_params = {\n",
    "    'n_estimators': [10, 50, 100],\n",
    "    'max_depth': [None, 3, 5, 7],\n",
    "    'min_samples_split': [2, 5, 10]\n",
    "}\n",
    "\n",
    "logistic_regression_params = {\n",
    "    'C': [0.1, 1.0, 10.0],\n",
    "    'solver': ['liblinear', 'lbfgs']\n",
    "}\n",
    "\n",
    "svm_params = {\n",
    "    'C': [0.1, 1.0, 10.0],\n",
    "    'kernel': ['linear', 'rbf']\n",
    "}\n",
    "\n",
    "# Perform randomized grid search for each model\n",
    "models = [\n",
    "    ('Decision Tree', DecisionTreeClassifier(), decision_tree_params),\n",
    "    ('Random Forest', RandomForestClassifier(), random_forest_params),\n",
    "    ('Logistic Regression', LogisticRegression(), logistic_regression_params),\n",
    "    ('SVM', SVC(), svm_params)\n",
    "]\n",
    "\n",
    "for model_name, model, params in models:\n",
    "    print(f\"Performing randomized grid search for {model_name}...\")\n",
    "    random_search = RandomizedSearchCV(model, params, n_jobs = 2, n_iter=20, cv=3, random_state=42)\n",
    "    random_search.fit(X, y)\n",
    "    best_params = random_search.best_params_\n",
    "    print(f\"Best parameters for {model_name}:\")\n",
    "    for param, value in best_params.items():\n",
    "        print(f\"{param}: {value}\")\n",
    "    print()\n"
   ]
  },
  {
   "cell_type": "code",
   "execution_count": 25,
   "id": "74e5ac89",
   "metadata": {},
   "outputs": [
    {
     "name": "stdout",
     "output_type": "stream",
     "text": [
      "(412, 209) (412, 5) (412, 209)\n"
     ]
    },
    {
     "data": {
      "image/png": "[encoded data removed]",
      "text/plain": [
       "<Figure size 640x480 with 1 Axes>"
      ]
     },
     "metadata": {},
     "output_type": "display_data"
    },
    {
     "name": "stdout",
     "output_type": "stream",
     "text": [
      "area under pr: 1.0\n",
      "              precision    recall  f1-score   support\n",
      "\n",
      "     healthy       1.00      0.82      0.90        11\n",
      "   unhealthy       0.97      1.00      0.99        72\n",
      "\n",
      "    accuracy                           0.98        83\n",
      "   macro avg       0.99      0.91      0.94        83\n",
      "weighted avg       0.98      0.98      0.97        83\n",
      " \n",
      "\n"
     ]
    }
   ],
   "source": [
    "model = RandomForestClassifier(class_weight=\"balanced\", random_state=40)\n",
    "train_combined(model,new_data)"
   ]
  },
  {
   "cell_type": "code",
   "execution_count": 16,
   "id": "f2e659ea",
   "metadata": {},
   "outputs": [
    {
     "name": "stdout",
     "output_type": "stream",
     "text": [
      "Performing randomized grid search for Random Forest...\n",
      "Best parameters for Random Forest:\n",
      "n_estimators: 50\n",
      "min_samples_split: 5\n",
      "max_depth: None\n",
      "class_weight: balanced\n",
      "\n"
     ]
    }
   ],
   "source": [
    "y = new_data[\"Diagnosis\"].values\n",
    "signals = new_data[\"signal\"].values.tolist()\n",
    "X = get_stft_X(new_data, columns, only_classic=False, fs=fs, nperseg=nperseg)\n",
    "dist = get_shapelets(signals, y, 5)[0]\n",
    "X = np.concatenate((X, dist), axis=1)\n",
    "random_forest_params = {\n",
    "    'n_estimators': [10, 50, 100],\n",
    "    'max_depth': [None, 3, 5, 7],\n",
    "    'min_samples_split': [2, 5, 10],\n",
    "    'class_weight': ['balanced']\n",
    "}\n",
    "\n",
    "models = [\n",
    "    ('Random Forest', RandomForestClassifier(), random_forest_params)\n",
    "    \n",
    "]\n",
    "\n",
    "for model_name, model, params in models:\n",
    "    print(f\"Performing randomized grid search for {model_name}...\")\n",
    "    random_search = RandomizedSearchCV(model, params, n_jobs = 2, n_iter=20, cv=3, random_state=42)\n",
    "    random_search.fit(X, y)\n",
    "    best_params = random_search.best_params_\n",
    "    print(f\"Best parameters for {model_name}:\")\n",
    "    for param, value in best_params.items():\n",
    "        print(f\"{param}: {value}\")\n",
    "    print()"
   ]
  },
  {
   "cell_type": "code",
   "execution_count": 73,
   "id": "0779363c",
   "metadata": {
    "scrolled": false
   },
   "outputs": [
    {
     "name": "stdout",
     "output_type": "stream",
     "text": [
      "nperseg = 5.0 \n",
      "\n"
     ]
    },
    {
     "data": {
      "image/png": "[encoded data removed]",
      "text/plain": [
       "<Figure size 640x480 with 1 Axes>"
      ]
     },
     "metadata": {},
     "output_type": "display_data"
    },
    {
     "name": "stdout",
     "output_type": "stream",
     "text": [
      "area under pr: 1.0\n",
      "              precision    recall  f1-score   support\n",
      "\n",
      "     healthy       0.82      0.82      0.82        11\n",
      "   unhealthy       0.97      0.97      0.97        72\n",
      "\n",
      "    accuracy                           0.95        83\n",
      "   macro avg       0.90      0.90      0.90        83\n",
      "weighted avg       0.95      0.95      0.95        83\n",
      " \n",
      "\n",
      "nperseg = 8.75 \n",
      "\n"
     ]
    },
    {
     "data": {
      "image/png": "[encoded data removed]",
      "text/plain": [
       "<Figure size 640x480 with 1 Axes>"
      ]
     },
     "metadata": {},
     "output_type": "display_data"
    },
    {
     "name": "stdout",
     "output_type": "stream",
     "text": [
      "area under pr: 1.0\n",
      "              precision    recall  f1-score   support\n",
      "\n",
      "     healthy       1.00      0.82      0.90        11\n",
      "   unhealthy       0.97      1.00      0.99        72\n",
      "\n",
      "    accuracy                           0.98        83\n",
      "   macro avg       0.99      0.91      0.94        83\n",
      "weighted avg       0.98      0.98      0.97        83\n",
      " \n",
      "\n",
      "nperseg = 12.5 \n",
      "\n"
     ]
    },
    {
     "data": {
      "image/png": "[encoded data removed]",
      "text/plain": [
       "<Figure size 640x480 with 1 Axes>"
      ]
     },
     "metadata": {},
     "output_type": "display_data"
    },
    {
     "name": "stdout",
     "output_type": "stream",
     "text": [
      "area under pr: 1.0\n",
      "              precision    recall  f1-score   support\n",
      "\n",
      "     healthy       0.90      0.82      0.86        11\n",
      "   unhealthy       0.97      0.99      0.98        72\n",
      "\n",
      "    accuracy                           0.96        83\n",
      "   macro avg       0.94      0.90      0.92        83\n",
      "weighted avg       0.96      0.96      0.96        83\n",
      " \n",
      "\n",
      "nperseg = 16.25 \n",
      "\n"
     ]
    },
    {
     "data": {
      "image/png": "[encoded data removed]",
      "text/plain": [
       "<Figure size 640x480 with 1 Axes>"
      ]
     },
     "metadata": {},
     "output_type": "display_data"
    },
    {
     "name": "stdout",
     "output_type": "stream",
     "text": [
      "area under pr: 1.0\n",
      "              precision    recall  f1-score   support\n",
      "\n",
      "     healthy       0.82      0.82      0.82        11\n",
      "   unhealthy       0.97      0.97      0.97        72\n",
      "\n",
      "    accuracy                           0.95        83\n",
      "   macro avg       0.90      0.90      0.90        83\n",
      "weighted avg       0.95      0.95      0.95        83\n",
      " \n",
      "\n",
      "nperseg = 20.0 \n",
      "\n"
     ]
    },
    {
     "data": {
      "image/png": "[encoded data removed]",
      "text/plain": [
       "<Figure size 640x480 with 1 Axes>"
      ]
     },
     "metadata": {},
     "output_type": "display_data"
    },
    {
     "name": "stdout",
     "output_type": "stream",
     "text": [
      "area under pr: 1.0\n",
      "              precision    recall  f1-score   support\n",
      "\n",
      "     healthy       0.75      0.82      0.78        11\n",
      "   unhealthy       0.97      0.96      0.97        72\n",
      "\n",
      "    accuracy                           0.94        83\n",
      "   macro avg       0.86      0.89      0.87        83\n",
      "weighted avg       0.94      0.94      0.94        83\n",
      " \n",
      "\n",
      "nperseg = 5.0 \n",
      "\n"
     ]
    },
    {
     "data": {
      "image/png": "[encoded data removed]",
      "text/plain": [
       "<Figure size 640x480 with 1 Axes>"
      ]
     },
     "metadata": {},
     "output_type": "display_data"
    },
    {
     "name": "stdout",
     "output_type": "stream",
     "text": [
      "area under pr: 1.0\n",
      "              precision    recall  f1-score   support\n",
      "\n",
      "     healthy       1.00      0.82      0.90        11\n",
      "   unhealthy       0.97      1.00      0.99        72\n",
      "\n",
      "    accuracy                           0.98        83\n",
      "   macro avg       0.99      0.91      0.94        83\n",
      "weighted avg       0.98      0.98      0.97        83\n",
      " \n",
      "\n",
      "nperseg = 8.75 \n",
      "\n"
     ]
    },
    {
     "data": {
      "image/png": "[encoded data removed]",
      "text/plain": [
       "<Figure size 640x480 with 1 Axes>"
      ]
     },
     "metadata": {},
     "output_type": "display_data"
    },
    {
     "name": "stdout",
     "output_type": "stream",
     "text": [
      "area under pr: 1.0\n",
      "              precision    recall  f1-score   support\n",
      "\n",
      "     healthy       1.00      0.82      0.90        11\n",
      "   unhealthy       0.97      1.00      0.99        72\n",
      "\n",
      "    accuracy                           0.98        83\n",
      "   macro avg       0.99      0.91      0.94        83\n",
      "weighted avg       0.98      0.98      0.97        83\n",
      " \n",
      "\n",
      "nperseg = 12.5 \n",
      "\n"
     ]
    },
    {
     "data": {
      "image/png": "[encoded data removed]",
      "text/plain": [
       "<Figure size 640x480 with 1 Axes>"
      ]
     },
     "metadata": {},
     "output_type": "display_data"
    },
    {
     "name": "stdout",
     "output_type": "stream",
     "text": [
      "area under pr: 1.0\n",
      "              precision    recall  f1-score   support\n",
      "\n",
      "     healthy       1.00      0.82      0.90        11\n",
      "   unhealthy       0.97      1.00      0.99        72\n",
      "\n",
      "    accuracy                           0.98        83\n",
      "   macro avg       0.99      0.91      0.94        83\n",
      "weighted avg       0.98      0.98      0.97        83\n",
      " \n",
      "\n",
      "nperseg = 16.25 \n",
      "\n"
     ]
    },
    {
     "data": {
      "image/png": "[encoded data removed]",
      "text/plain": [
       "<Figure size 640x480 with 1 Axes>"
      ]
     },
     "metadata": {},
     "output_type": "display_data"
    },
    {
     "name": "stdout",
     "output_type": "stream",
     "text": [
      "area under pr: 1.0\n",
      "              precision    recall  f1-score   support\n",
      "\n",
      "     healthy       1.00      0.82      0.90        11\n",
      "   unhealthy       0.97      1.00      0.99        72\n",
      "\n",
      "    accuracy                           0.98        83\n",
      "   macro avg       0.99      0.91      0.94        83\n",
      "weighted avg       0.98      0.98      0.97        83\n",
      " \n",
      "\n",
      "nperseg = 20.0 \n",
      "\n"
     ]
    },
    {
     "data": {
      "image/png": "[encoded data removed]",
      "text/plain": [
       "<Figure size 640x480 with 1 Axes>"
      ]
     },
     "metadata": {},
     "output_type": "display_data"
    },
    {
     "name": "stdout",
     "output_type": "stream",
     "text": [
      "area under pr: 1.0\n",
      "              precision    recall  f1-score   support\n",
      "\n",
      "     healthy       1.00      0.82      0.90        11\n",
      "   unhealthy       0.97      1.00      0.99        72\n",
      "\n",
      "    accuracy                           0.98        83\n",
      "   macro avg       0.99      0.91      0.94        83\n",
      "weighted avg       0.98      0.98      0.97        83\n",
      " \n",
      "\n",
      "nperseg = 5.0 \n",
      "\n"
     ]
    },
    {
     "name": "stderr",
     "output_type": "stream",
     "text": [
      "/proj/ciptmp/ez48awud/envs/erg/lib/python3.8/site-packages/sklearn/linear_model/_logistic.py:458: ConvergenceWarning: lbfgs failed to converge (status=1):\n",
      "STOP: TOTAL NO. of ITERATIONS REACHED LIMIT.\n",
      "\n",
      "Increase the number of iterations (max_iter) or scale the data as shown in:\n",
      "    https://scikit-learn.org/stable/modules/preprocessing.html\n",
      "Please also refer to the documentation for alternative solver options:\n",
      "    https://scikit-learn.org/stable/modules/linear_model.html#logistic-regression\n",
      "  n_iter_i = _check_optimize_result(\n",
      "/proj/ciptmp/ez48awud/envs/erg/lib/python3.8/site-packages/sklearn/linear_model/_logistic.py:458: ConvergenceWarning: lbfgs failed to converge (status=1):\n",
      "STOP: TOTAL NO. of ITERATIONS REACHED LIMIT.\n",
      "\n",
      "Increase the number of iterations (max_iter) or scale the data as shown in:\n",
      "    https://scikit-learn.org/stable/modules/preprocessing.html\n",
      "Please also refer to the documentation for alternative solver options:\n",
      "    https://scikit-learn.org/stable/modules/linear_model.html#logistic-regression\n",
      "  n_iter_i = _check_optimize_result(\n"
     ]
    },
    {
     "data": {
      "image/png": "[encoded data removed]",
      "text/plain": [
       "<Figure size 640x480 with 1 Axes>"
      ]
     },
     "metadata": {},
     "output_type": "display_data"
    },
    {
     "name": "stdout",
     "output_type": "stream",
     "text": [
      "area under pr: 1.0\n",
      "              precision    recall  f1-score   support\n",
      "\n",
      "     healthy       1.00      0.27      0.43        11\n",
      "   unhealthy       0.90      1.00      0.95        72\n",
      "\n",
      "    accuracy                           0.90        83\n",
      "   macro avg       0.95      0.64      0.69        83\n",
      "weighted avg       0.91      0.90      0.88        83\n",
      " \n",
      "\n",
      "nperseg = 8.75 \n",
      "\n"
     ]
    },
    {
     "name": "stderr",
     "output_type": "stream",
     "text": [
      "/proj/ciptmp/ez48awud/envs/erg/lib/python3.8/site-packages/sklearn/linear_model/_logistic.py:458: ConvergenceWarning: lbfgs failed to converge (status=1):\n",
      "STOP: TOTAL NO. of ITERATIONS REACHED LIMIT.\n",
      "\n",
      "Increase the number of iterations (max_iter) or scale the data as shown in:\n",
      "    https://scikit-learn.org/stable/modules/preprocessing.html\n",
      "Please also refer to the documentation for alternative solver options:\n",
      "    https://scikit-learn.org/stable/modules/linear_model.html#logistic-regression\n",
      "  n_iter_i = _check_optimize_result(\n",
      "/proj/ciptmp/ez48awud/envs/erg/lib/python3.8/site-packages/sklearn/linear_model/_logistic.py:458: ConvergenceWarning: lbfgs failed to converge (status=1):\n",
      "STOP: TOTAL NO. of ITERATIONS REACHED LIMIT.\n",
      "\n",
      "Increase the number of iterations (max_iter) or scale the data as shown in:\n",
      "    https://scikit-learn.org/stable/modules/preprocessing.html\n",
      "Please also refer to the documentation for alternative solver options:\n",
      "    https://scikit-learn.org/stable/modules/linear_model.html#logistic-regression\n",
      "  n_iter_i = _check_optimize_result(\n"
     ]
    },
    {
     "data": {
      "image/png": "[encoded data removed]",
      "text/plain": [
       "<Figure size 640x480 with 1 Axes>"
      ]
     },
     "metadata": {},
     "output_type": "display_data"
    },
    {
     "name": "stdout",
     "output_type": "stream",
     "text": [
      "area under pr: 1.0\n",
      "              precision    recall  f1-score   support\n",
      "\n",
      "     healthy       1.00      0.27      0.43        11\n",
      "   unhealthy       0.90      1.00      0.95        72\n",
      "\n",
      "    accuracy                           0.90        83\n",
      "   macro avg       0.95      0.64      0.69        83\n",
      "weighted avg       0.91      0.90      0.88        83\n",
      " \n",
      "\n",
      "nperseg = 12.5 \n",
      "\n"
     ]
    },
    {
     "name": "stderr",
     "output_type": "stream",
     "text": [
      "/proj/ciptmp/ez48awud/envs/erg/lib/python3.8/site-packages/sklearn/linear_model/_logistic.py:458: ConvergenceWarning: lbfgs failed to converge (status=1):\n",
      "STOP: TOTAL NO. of ITERATIONS REACHED LIMIT.\n",
      "\n",
      "Increase the number of iterations (max_iter) or scale the data as shown in:\n",
      "    https://scikit-learn.org/stable/modules/preprocessing.html\n",
      "Please also refer to the documentation for alternative solver options:\n",
      "    https://scikit-learn.org/stable/modules/linear_model.html#logistic-regression\n",
      "  n_iter_i = _check_optimize_result(\n",
      "/proj/ciptmp/ez48awud/envs/erg/lib/python3.8/site-packages/sklearn/linear_model/_logistic.py:458: ConvergenceWarning: lbfgs failed to converge (status=1):\n",
      "STOP: TOTAL NO. of ITERATIONS REACHED LIMIT.\n",
      "\n",
      "Increase the number of iterations (max_iter) or scale the data as shown in:\n",
      "    https://scikit-learn.org/stable/modules/preprocessing.html\n",
      "Please also refer to the documentation for alternative solver options:\n",
      "    https://scikit-learn.org/stable/modules/linear_model.html#logistic-regression\n",
      "  n_iter_i = _check_optimize_result(\n"
     ]
    },
    {
     "data": {
      "image/png": "[encoded data removed]",
      "text/plain": [
       "<Figure size 640x480 with 1 Axes>"
      ]
     },
     "metadata": {},
     "output_type": "display_data"
    },
    {
     "name": "stdout",
     "output_type": "stream",
     "text": [
      "area under pr: 1.0\n",
      "              precision    recall  f1-score   support\n",
      "\n",
      "     healthy       1.00      0.27      0.43        11\n",
      "   unhealthy       0.90      1.00      0.95        72\n",
      "\n",
      "    accuracy                           0.90        83\n",
      "   macro avg       0.95      0.64      0.69        83\n",
      "weighted avg       0.91      0.90      0.88        83\n",
      " \n",
      "\n",
      "nperseg = 16.25 \n",
      "\n"
     ]
    },
    {
     "name": "stderr",
     "output_type": "stream",
     "text": [
      "/proj/ciptmp/ez48awud/envs/erg/lib/python3.8/site-packages/sklearn/linear_model/_logistic.py:458: ConvergenceWarning: lbfgs failed to converge (status=1):\n",
      "STOP: TOTAL NO. of ITERATIONS REACHED LIMIT.\n",
      "\n",
      "Increase the number of iterations (max_iter) or scale the data as shown in:\n",
      "    https://scikit-learn.org/stable/modules/preprocessing.html\n",
      "Please also refer to the documentation for alternative solver options:\n",
      "    https://scikit-learn.org/stable/modules/linear_model.html#logistic-regression\n",
      "  n_iter_i = _check_optimize_result(\n",
      "/proj/ciptmp/ez48awud/envs/erg/lib/python3.8/site-packages/sklearn/linear_model/_logistic.py:458: ConvergenceWarning: lbfgs failed to converge (status=1):\n",
      "STOP: TOTAL NO. of ITERATIONS REACHED LIMIT.\n",
      "\n",
      "Increase the number of iterations (max_iter) or scale the data as shown in:\n",
      "    https://scikit-learn.org/stable/modules/preprocessing.html\n",
      "Please also refer to the documentation for alternative solver options:\n",
      "    https://scikit-learn.org/stable/modules/linear_model.html#logistic-regression\n",
      "  n_iter_i = _check_optimize_result(\n"
     ]
    },
    {
     "data": {
      "image/png": "[encoded data removed]",
      "text/plain": [
       "<Figure size 640x480 with 1 Axes>"
      ]
     },
     "metadata": {},
     "output_type": "display_data"
    },
    {
     "name": "stdout",
     "output_type": "stream",
     "text": [
      "area under pr: 1.0\n",
      "              precision    recall  f1-score   support\n",
      "\n",
      "     healthy       1.00      0.27      0.43        11\n",
      "   unhealthy       0.90      1.00      0.95        72\n",
      "\n",
      "    accuracy                           0.90        83\n",
      "   macro avg       0.95      0.64      0.69        83\n",
      "weighted avg       0.91      0.90      0.88        83\n",
      " \n",
      "\n",
      "nperseg = 20.0 \n",
      "\n"
     ]
    },
    {
     "name": "stderr",
     "output_type": "stream",
     "text": [
      "/proj/ciptmp/ez48awud/envs/erg/lib/python3.8/site-packages/sklearn/linear_model/_logistic.py:458: ConvergenceWarning: lbfgs failed to converge (status=1):\n",
      "STOP: TOTAL NO. of ITERATIONS REACHED LIMIT.\n",
      "\n",
      "Increase the number of iterations (max_iter) or scale the data as shown in:\n",
      "    https://scikit-learn.org/stable/modules/preprocessing.html\n",
      "Please also refer to the documentation for alternative solver options:\n",
      "    https://scikit-learn.org/stable/modules/linear_model.html#logistic-regression\n",
      "  n_iter_i = _check_optimize_result(\n",
      "/proj/ciptmp/ez48awud/envs/erg/lib/python3.8/site-packages/sklearn/linear_model/_logistic.py:458: ConvergenceWarning: lbfgs failed to converge (status=1):\n",
      "STOP: TOTAL NO. of ITERATIONS REACHED LIMIT.\n",
      "\n",
      "Increase the number of iterations (max_iter) or scale the data as shown in:\n",
      "    https://scikit-learn.org/stable/modules/preprocessing.html\n",
      "Please also refer to the documentation for alternative solver options:\n",
      "    https://scikit-learn.org/stable/modules/linear_model.html#logistic-regression\n",
      "  n_iter_i = _check_optimize_result(\n"
     ]
    },
    {
     "data": {
      "image/png": "[encoded data removed]",
      "text/plain": [
       "<Figure size 640x480 with 1 Axes>"
      ]
     },
     "metadata": {},
     "output_type": "display_data"
    },
    {
     "name": "stdout",
     "output_type": "stream",
     "text": [
      "area under pr: 1.0\n",
      "              precision    recall  f1-score   support\n",
      "\n",
      "     healthy       1.00      0.27      0.43        11\n",
      "   unhealthy       0.90      1.00      0.95        72\n",
      "\n",
      "    accuracy                           0.90        83\n",
      "   macro avg       0.95      0.64      0.69        83\n",
      "weighted avg       0.91      0.90      0.88        83\n",
      " \n",
      "\n",
      "nperseg = 5.0 \n",
      "\n"
     ]
    },
    {
     "name": "stderr",
     "output_type": "stream",
     "text": [
      "/proj/ciptmp/ez48awud/envs/erg/lib/python3.8/site-packages/sklearn/utils/_param_validation.py:558: FutureWarning: Passing an int for a boolean parameter is deprecated in version 1.2 and won't be supported anymore in version 1.4.\n",
      "  warnings.warn(\n"
     ]
    },
    {
     "ename": "AttributeError",
     "evalue": "predict_proba is not available when  probability=False",
     "output_type": "error",
     "traceback": [
      "\u001b[0;31m---------------------------------------------------------------------------\u001b[0m",
      "\u001b[0;31mAttributeError\u001b[0m                            Traceback (most recent call last)",
      "Cell \u001b[0;32mIn[73], line 12\u001b[0m\n\u001b[1;32m      9\u001b[0m models \u001b[38;5;241m=\u001b[39m [DecisionTreeClassifier(random_state\u001b[38;5;241m=\u001b[39m\u001b[38;5;241m0\u001b[39m), RandomForestClassifier(random_state\u001b[38;5;241m=\u001b[39m\u001b[38;5;241m0\u001b[39m),\n\u001b[1;32m     10\u001b[0m              LogisticRegression(random_state\u001b[38;5;241m=\u001b[39m\u001b[38;5;241m0\u001b[39m), SVC(probability\u001b[38;5;241m=\u001b[39m\u001b[38;5;241m0\u001b[39m)]\n\u001b[1;32m     11\u001b[0m \u001b[38;5;28;01mfor\u001b[39;00m model \u001b[38;5;129;01min\u001b[39;00m models:\n\u001b[0;32m---> 12\u001b[0m     \u001b[43mtrain_classifier\u001b[49m\u001b[43m(\u001b[49m\u001b[43mmodel\u001b[49m\u001b[43m,\u001b[49m\u001b[43m \u001b[49m\u001b[43mnew_data\u001b[49m\u001b[43m)\u001b[49m\n",
      "Cell \u001b[0;32mIn[68], line 11\u001b[0m, in \u001b[0;36mtrain_classifier\u001b[0;34m(model, new_data)\u001b[0m\n\u001b[1;32m      9\u001b[0m X \u001b[38;5;241m=\u001b[39m get_stft_X(new_data, columns, fs\u001b[38;5;241m=\u001b[39mfs, nperseg\u001b[38;5;241m=\u001b[39mnperseg)\n\u001b[1;32m     10\u001b[0m \u001b[38;5;66;03m#model = RandomForestClassifier(n_jobs=-1, random_state=42)\u001b[39;00m\n\u001b[0;32m---> 11\u001b[0m \u001b[43mtrain\u001b[49m\u001b[43m(\u001b[49m\u001b[43mmodel\u001b[49m\u001b[43m,\u001b[49m\u001b[43m \u001b[49m\u001b[43mX\u001b[49m\u001b[43m,\u001b[49m\u001b[43m \u001b[49m\u001b[43my\u001b[49m\u001b[43m)\u001b[49m\n",
      "Cell \u001b[0;32mIn[71], line 30\u001b[0m, in \u001b[0;36mtrain\u001b[0;34m(model, X, y, test_ratio, kfold_splits, random_state)\u001b[0m\n\u001b[1;32m     27\u001b[0m \u001b[38;5;28;01mdef\u001b[39;00m \u001b[38;5;21mtrain\u001b[39m(model, X, y, test_ratio\u001b[38;5;241m=\u001b[39m\u001b[38;5;241m0.2\u001b[39m, kfold_splits \u001b[38;5;241m=\u001b[39m \u001b[38;5;241m10\u001b[39m, random_state \u001b[38;5;241m=\u001b[39m \u001b[38;5;241m42\u001b[39m):\n\u001b[1;32m     28\u001b[0m     \u001b[38;5;66;03m# prepare data\u001b[39;00m\n\u001b[1;32m     29\u001b[0m     X_train, X_test, y_train, y_test \u001b[38;5;241m=\u001b[39m train_test_split(X, y, test_size\u001b[38;5;241m=\u001b[39mtest_ratio, random_state\u001b[38;5;241m=\u001b[39mrandom_state)\n\u001b[0;32m---> 30\u001b[0m     model, mean_precision \u001b[38;5;241m=\u001b[39m \u001b[43mtrain_kfold\u001b[49m\u001b[43m(\u001b[49m\u001b[43mmodel\u001b[49m\u001b[43m,\u001b[49m\u001b[43m \u001b[49m\u001b[43mX\u001b[49m\u001b[43m,\u001b[49m\u001b[43m \u001b[49m\u001b[43my\u001b[49m\u001b[43m,\u001b[49m\u001b[43m \u001b[49m\u001b[43mX_train\u001b[49m\u001b[43m,\u001b[49m\u001b[43m \u001b[49m\u001b[43my_train\u001b[49m\u001b[43m,\u001b[49m\u001b[43m \u001b[49m\u001b[43mkfold_splits\u001b[49m\u001b[43m,\u001b[49m\u001b[43m \u001b[49m\u001b[43mrandom_state\u001b[49m\u001b[43m)\u001b[49m\n\u001b[1;32m     32\u001b[0m     y_pred_h \u001b[38;5;241m=\u001b[39m model\u001b[38;5;241m.\u001b[39mpredict_proba(X_test[y_test \u001b[38;5;241m==\u001b[39m \u001b[38;5;241m0\u001b[39m])[:, \u001b[38;5;241m1\u001b[39m]\n\u001b[1;32m     33\u001b[0m     y_test_h \u001b[38;5;241m=\u001b[39m y_test[y_test\u001b[38;5;241m==\u001b[39m\u001b[38;5;241m0\u001b[39m]\n",
      "Cell \u001b[0;32mIn[71], line 16\u001b[0m, in \u001b[0;36mtrain_kfold\u001b[0;34m(model, X, y, X_train, y_train, kfolds, random_state)\u001b[0m\n\u001b[1;32m     13\u001b[0m y_tr, y_te \u001b[38;5;241m=\u001b[39m y[train_index], y[test_index]\n\u001b[1;32m     15\u001b[0m model\u001b[38;5;241m.\u001b[39mfit(X_tr, y_tr)\n\u001b[0;32m---> 16\u001b[0m y_pr \u001b[38;5;241m=\u001b[39m \u001b[43mmodel\u001b[49m\u001b[38;5;241;43m.\u001b[39;49m\u001b[43mpredict_proba\u001b[49m(X_te)[:,\u001b[38;5;241m1\u001b[39m]\n\u001b[1;32m     17\u001b[0m aps \u001b[38;5;241m=\u001b[39m average_precision_score(y_te, y_pr)\n\u001b[1;32m     18\u001b[0m average_precisions\u001b[38;5;241m.\u001b[39mappend(aps)\n",
      "File \u001b[0;32m/proj/ciptmp/ez48awud/envs/erg/lib/python3.8/site-packages/sklearn/utils/_available_if.py:32\u001b[0m, in \u001b[0;36m_AvailableIfDescriptor.__get__\u001b[0;34m(self, obj, owner)\u001b[0m\n\u001b[1;32m     26\u001b[0m attr_err \u001b[38;5;241m=\u001b[39m \u001b[38;5;167;01mAttributeError\u001b[39;00m(\n\u001b[1;32m     27\u001b[0m     \u001b[38;5;124mf\u001b[39m\u001b[38;5;124m\"\u001b[39m\u001b[38;5;124mThis \u001b[39m\u001b[38;5;132;01m{\u001b[39;00m\u001b[38;5;28mrepr\u001b[39m(owner\u001b[38;5;241m.\u001b[39m\u001b[38;5;18m__name__\u001b[39m)\u001b[38;5;132;01m}\u001b[39;00m\u001b[38;5;124m has no attribute \u001b[39m\u001b[38;5;132;01m{\u001b[39;00m\u001b[38;5;28mrepr\u001b[39m(\u001b[38;5;28mself\u001b[39m\u001b[38;5;241m.\u001b[39mattribute_name)\u001b[38;5;132;01m}\u001b[39;00m\u001b[38;5;124m\"\u001b[39m\n\u001b[1;32m     28\u001b[0m )\n\u001b[1;32m     29\u001b[0m \u001b[38;5;28;01mif\u001b[39;00m obj \u001b[38;5;129;01mis\u001b[39;00m \u001b[38;5;129;01mnot\u001b[39;00m \u001b[38;5;28;01mNone\u001b[39;00m:\n\u001b[1;32m     30\u001b[0m     \u001b[38;5;66;03m# delegate only on instances, not the classes.\u001b[39;00m\n\u001b[1;32m     31\u001b[0m     \u001b[38;5;66;03m# this is to allow access to the docstrings.\u001b[39;00m\n\u001b[0;32m---> 32\u001b[0m     \u001b[38;5;28;01mif\u001b[39;00m \u001b[38;5;129;01mnot\u001b[39;00m \u001b[38;5;28;43mself\u001b[39;49m\u001b[38;5;241;43m.\u001b[39;49m\u001b[43mcheck\u001b[49m\u001b[43m(\u001b[49m\u001b[43mobj\u001b[49m\u001b[43m)\u001b[49m:\n\u001b[1;32m     33\u001b[0m         \u001b[38;5;28;01mraise\u001b[39;00m attr_err\n\u001b[1;32m     34\u001b[0m     out \u001b[38;5;241m=\u001b[39m MethodType(\u001b[38;5;28mself\u001b[39m\u001b[38;5;241m.\u001b[39mfn, obj)\n",
      "File \u001b[0;32m/proj/ciptmp/ez48awud/envs/erg/lib/python3.8/site-packages/sklearn/svm/_base.py:829\u001b[0m, in \u001b[0;36mBaseSVC._check_proba\u001b[0;34m(self)\u001b[0m\n\u001b[1;32m    827\u001b[0m \u001b[38;5;28;01mdef\u001b[39;00m \u001b[38;5;21m_check_proba\u001b[39m(\u001b[38;5;28mself\u001b[39m):\n\u001b[1;32m    828\u001b[0m     \u001b[38;5;28;01mif\u001b[39;00m \u001b[38;5;129;01mnot\u001b[39;00m \u001b[38;5;28mself\u001b[39m\u001b[38;5;241m.\u001b[39mprobability:\n\u001b[0;32m--> 829\u001b[0m         \u001b[38;5;28;01mraise\u001b[39;00m \u001b[38;5;167;01mAttributeError\u001b[39;00m(\n\u001b[1;32m    830\u001b[0m             \u001b[38;5;124m\"\u001b[39m\u001b[38;5;124mpredict_proba is not available when  probability=False\u001b[39m\u001b[38;5;124m\"\u001b[39m\n\u001b[1;32m    831\u001b[0m         )\n\u001b[1;32m    832\u001b[0m     \u001b[38;5;28;01mif\u001b[39;00m \u001b[38;5;28mself\u001b[39m\u001b[38;5;241m.\u001b[39m_impl \u001b[38;5;129;01mnot\u001b[39;00m \u001b[38;5;129;01min\u001b[39;00m (\u001b[38;5;124m\"\u001b[39m\u001b[38;5;124mc_svc\u001b[39m\u001b[38;5;124m\"\u001b[39m, \u001b[38;5;124m\"\u001b[39m\u001b[38;5;124mnu_svc\u001b[39m\u001b[38;5;124m\"\u001b[39m):\n\u001b[1;32m    833\u001b[0m         \u001b[38;5;28;01mraise\u001b[39;00m \u001b[38;5;167;01mAttributeError\u001b[39;00m(\u001b[38;5;124m\"\u001b[39m\u001b[38;5;124mpredict_proba only implemented for SVC and NuSVC\u001b[39m\u001b[38;5;124m\"\u001b[39m)\n",
      "\u001b[0;31mAttributeError\u001b[0m: predict_proba is not available when  probability=False"
     ]
    }
   ],
   "source": [
    "from sklearn.neural_network import MLPClassifier\n",
    "from sklearn.svm import SVC\n",
    "from sklearn.linear_model import LogisticRegression\n",
    "from sklearn.neighbors import KNeighborsClassifier\n",
    "from sklearn.naive_bayes import GaussianNB\n",
    "from sklearn.tree import DecisionTreeClassifier\n",
    "from sklearn.ensemble import RandomForestClassifier\n",
    "\n",
    "models = [DecisionTreeClassifier(random_state=0), RandomForestClassifier(random_state=0),\n",
    "             LogisticRegression(random_state=0), SVC(probability=0)]\n",
    "for model in models:\n",
    "    train_classifier(model, new_data)\n"
   ]
  },
  {
   "cell_type": "code",
   "execution_count": 18,
   "id": "14763481",
   "metadata": {},
   "outputs": [
    {
     "name": "stderr",
     "output_type": "stream",
     "text": [
      "/proj/ciptmp/ez48awud/envs/erg/lib/python3.8/site-packages/sklearn/linear_model/_logistic.py:458: ConvergenceWarning: lbfgs failed to converge (status=1):\n",
      "STOP: TOTAL NO. of ITERATIONS REACHED LIMIT.\n",
      "\n",
      "Increase the number of iterations (max_iter) or scale the data as shown in:\n",
      "    https://scikit-learn.org/stable/modules/preprocessing.html\n",
      "Please also refer to the documentation for alternative solver options:\n",
      "    https://scikit-learn.org/stable/modules/linear_model.html#logistic-regression\n",
      "  n_iter_i = _check_optimize_result(\n",
      "/proj/ciptmp/ez48awud/envs/erg/lib/python3.8/site-packages/sklearn/linear_model/_logistic.py:458: ConvergenceWarning: lbfgs failed to converge (status=1):\n",
      "STOP: TOTAL NO. of ITERATIONS REACHED LIMIT.\n",
      "\n",
      "Increase the number of iterations (max_iter) or scale the data as shown in:\n",
      "    https://scikit-learn.org/stable/modules/preprocessing.html\n",
      "Please also refer to the documentation for alternative solver options:\n",
      "    https://scikit-learn.org/stable/modules/linear_model.html#logistic-regression\n",
      "  n_iter_i = _check_optimize_result(\n",
      "/proj/ciptmp/ez48awud/envs/erg/lib/python3.8/site-packages/sklearn/linear_model/_logistic.py:458: ConvergenceWarning: lbfgs failed to converge (status=1):\n",
      "STOP: TOTAL NO. of ITERATIONS REACHED LIMIT.\n",
      "\n",
      "Increase the number of iterations (max_iter) or scale the data as shown in:\n",
      "    https://scikit-learn.org/stable/modules/preprocessing.html\n",
      "Please also refer to the documentation for alternative solver options:\n",
      "    https://scikit-learn.org/stable/modules/linear_model.html#logistic-regression\n",
      "  n_iter_i = _check_optimize_result(\n",
      "/proj/ciptmp/ez48awud/envs/erg/lib/python3.8/site-packages/sklearn/linear_model/_logistic.py:458: ConvergenceWarning: lbfgs failed to converge (status=1):\n",
      "STOP: TOTAL NO. of ITERATIONS REACHED LIMIT.\n",
      "\n",
      "Increase the number of iterations (max_iter) or scale the data as shown in:\n",
      "    https://scikit-learn.org/stable/modules/preprocessing.html\n",
      "Please also refer to the documentation for alternative solver options:\n",
      "    https://scikit-learn.org/stable/modules/linear_model.html#logistic-regression\n",
      "  n_iter_i = _check_optimize_result(\n",
      "/proj/ciptmp/ez48awud/envs/erg/lib/python3.8/site-packages/sklearn/linear_model/_logistic.py:458: ConvergenceWarning: lbfgs failed to converge (status=1):\n",
      "STOP: TOTAL NO. of ITERATIONS REACHED LIMIT.\n",
      "\n",
      "Increase the number of iterations (max_iter) or scale the data as shown in:\n",
      "    https://scikit-learn.org/stable/modules/preprocessing.html\n",
      "Please also refer to the documentation for alternative solver options:\n",
      "    https://scikit-learn.org/stable/modules/linear_model.html#logistic-regression\n",
      "  n_iter_i = _check_optimize_result(\n",
      "/proj/ciptmp/ez48awud/envs/erg/lib/python3.8/site-packages/sklearn/linear_model/_logistic.py:458: ConvergenceWarning: lbfgs failed to converge (status=1):\n",
      "STOP: TOTAL NO. of ITERATIONS REACHED LIMIT.\n",
      "\n",
      "Increase the number of iterations (max_iter) or scale the data as shown in:\n",
      "    https://scikit-learn.org/stable/modules/preprocessing.html\n",
      "Please also refer to the documentation for alternative solver options:\n",
      "    https://scikit-learn.org/stable/modules/linear_model.html#logistic-regression\n",
      "  n_iter_i = _check_optimize_result(\n",
      "/proj/ciptmp/ez48awud/envs/erg/lib/python3.8/site-packages/sklearn/linear_model/_logistic.py:458: ConvergenceWarning: lbfgs failed to converge (status=1):\n",
      "STOP: TOTAL NO. of ITERATIONS REACHED LIMIT.\n",
      "\n",
      "Increase the number of iterations (max_iter) or scale the data as shown in:\n",
      "    https://scikit-learn.org/stable/modules/preprocessing.html\n",
      "Please also refer to the documentation for alternative solver options:\n",
      "    https://scikit-learn.org/stable/modules/linear_model.html#logistic-regression\n",
      "  n_iter_i = _check_optimize_result(\n",
      "/proj/ciptmp/ez48awud/envs/erg/lib/python3.8/site-packages/sklearn/linear_model/_logistic.py:458: ConvergenceWarning: lbfgs failed to converge (status=1):\n",
      "STOP: TOTAL NO. of ITERATIONS REACHED LIMIT.\n",
      "\n",
      "Increase the number of iterations (max_iter) or scale the data as shown in:\n",
      "    https://scikit-learn.org/stable/modules/preprocessing.html\n",
      "Please also refer to the documentation for alternative solver options:\n",
      "    https://scikit-learn.org/stable/modules/linear_model.html#logistic-regression\n",
      "  n_iter_i = _check_optimize_result(\n"
     ]
    }
   ],
   "source": [
    "### TO DOs ###\n",
    "#1. try different window sizes\n",
    "#2. add visualizations\n",
    "#3. try with mean, mode, std features of each time frequency\n",
    "# Precision recall curve for evaluation\n",
    "# The precision recall plot is more informative than ROC plot when evaluation binary classificaion\n",
    "# random forest, concatenate short time features and shapelet features"
   ]
  },
  {
   "cell_type": "code",
   "execution_count": null,
   "id": "382180d0",
   "metadata": {},
   "outputs": [],
   "source": []
  }
 ],
 "metadata": {
  "kernelspec": {
   "display_name": "erg",
   "language": "python",
   "name": "erg"
  },
  "language_info": {
   "codemirror_mode": {
    "name": "ipython",
    "version": 3
   },
   "file_extension": ".py",
   "mimetype": "text/x-python",
   "name": "python",
   "nbconvert_exporter": "python",
   "pygments_lexer": "ipython3",
   "version": "3.8.16"
  }
 },
 "nbformat": 4,
 "nbformat_minor": 5
}
